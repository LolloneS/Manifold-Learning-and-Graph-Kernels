{
 "cells": [
  {
   "cell_type": "markdown",
   "metadata": {},
   "source": [
    "# Manifold Learning and Graph Kernels\n",
    "\n",
    "### Imports"
   ]
  },
  {
   "cell_type": "code",
   "execution_count": 6,
   "metadata": {},
   "outputs": [],
   "source": [
    "import scipy.io as sio\n",
    "from pathlib import Path"
   ]
  },
  {
   "cell_type": "markdown",
   "metadata": {},
   "source": [
    "### Read the datasets\n",
    "* Load the datasets\n",
    "* Take the `G` and `labels` fields\n",
    "* `G` consists in a list containing a list of arrays. Remove the external list. Afterwards take only the `am` field\n",
    "* `labels` consists in many one-element lists. Create a single list removing one depth level\n"
   ]
  },
  {
   "cell_type": "code",
   "execution_count": 69,
   "metadata": {},
   "outputs": [],
   "source": [
    "BASE_URI = '/home/lorenzo/Dropbox/manifold-learning-and-graph-kernels/dataset/'\n",
    "SHOCK_URI = 'SHOCK.mat'\n",
    "PPI_URI = 'PPI.mat'\n",
    "# `G` and `labels`\n",
    "SHOCK = sio.loadmat(BASE_URI + SHOCK_URI)\n",
    "SHOCK_G = SHOCK['G'][0] # read and get rid of external list\n",
    "SHOCK_G_adj = SHOCK_G['am'] # take only the adjacency matrix\n",
    "SHOCK_LABELS = SHOCK['labels'].reshape(-1) # read and get rid of useless 1-element lists\n",
    "assert len(SHOCK_G_adj) == len(SHOCK_LABELS)\n",
    "del SHOCK\n",
    "PPI = sio.loadmat(BASE_URI + PPI_URI)\n",
    "PPI_G = PPI['G'][0]\n",
    "PPI_G_adj = PPI_G['am']\n",
    "PPI_LABELS = PPI['labels'].reshape(-1)\n",
    "assert len(PPI_G_adj) == len(PPI_LABELS)\n",
    "del PPI"
   ]
  },
  {
   "cell_type": "code",
   "execution_count": 71,
   "metadata": {},
   "outputs": [],
   "source": [
    "# print(SHOCK_G.dtype.names) # [('am', 'O'), ('nl', 'O'), ('al', 'O')]\n",
    "# print(SHOCK_G_adj)"
   ]
  }
 ],
 "metadata": {
  "kernelspec": {
   "display_name": "Python 3",
   "language": "python",
   "name": "python3"
  },
  "language_info": {
   "codemirror_mode": {
    "name": "ipython",
    "version": 3
   },
   "file_extension": ".py",
   "mimetype": "text/x-python",
   "name": "python",
   "nbconvert_exporter": "python",
   "pygments_lexer": "ipython3",
   "version": "3.6.8"
  }
 },
 "nbformat": 4,
 "nbformat_minor": 2
}
